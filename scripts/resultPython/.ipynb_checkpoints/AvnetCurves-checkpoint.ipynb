{
 "cells": [
  {
   "cell_type": "code",
   "execution_count": 9,
   "metadata": {},
   "outputs": [
    {
     "name": "stderr",
     "output_type": "stream",
     "text": [
      "/home/fsmiguel/anaconda3/lib/python3.7/site-packages/IPython/core/pylabtools.py:132: UserWarning: Creating legend with loc=\"best\" can be slow with large amounts of data.\n",
      "  fig.canvas.print_figure(bytes_io, **kw)\n"
     ]
    },
    {
     "data": {
      "image/png": "[encoded data removed]",
      "text/plain": [
       "<Figure size 432x432 with 1 Axes>"
      ]
     },
     "metadata": {
      "needs_background": "light"
     },
     "output_type": "display_data"
    }
   ],
   "source": [
    "import pandas as pd\n",
    "get_ipython().run_line_magic('matplotlib', 'inline')\n",
    "\n",
    "import matplotlib.pyplot as plt\n",
    "pd.options.display.max_rows=10\n",
    "from datetime import datetime\n",
    "from statsmodels.tsa.arima_model import ARIMA\n",
    "import xgboost\n",
    "import graphviz\n",
    "import matplotlib.dates as md\n",
    "from xgboost import XGBClassifier\n",
    "from sklearn.model_selection import train_test_split\n",
    "from sklearn.metrics import accuracy_score,confusion_matrix\n",
    "from sklearn.preprocessing import scale\n",
    "from sklearn.linear_model import LogisticRegression\n",
    "from sklearn import metrics\n",
    "from sklearn import preprocessing\n",
    "#from imblearn.over_sampling import RandomOverSampler\n",
    "#from imblearn.under_sampling import RandomUnderSampler\n",
    "from sklearn.svm import LinearSVC\n",
    "from sklearn.svm import SVC\n",
    "#from sklearn.datasets import make_classification\n",
    "#from sklearn.ensemble import RandomForestClassifier\n",
    "import scipy\n",
    "from scipy.stats import spearmanr\n",
    "from pylab import rcParams\n",
    "import seaborn as sb\n",
    "from matplotlib.pylab import rcParams\n",
    "from statsmodels.tsa.arima_model import ARMA\n",
    "from statsmodels.tsa.stattools import adfuller, arma_order_select_ic\n",
    "from sklearn.metrics import r2_score, mean_squared_error, confusion_matrix\n",
    "from statsmodels.graphics.tsaplots import plot_acf,plot_pacf\n",
    "#import MyAnalysis \n",
    "rcParams['figure.figsize'] = 6,6\n",
    "\n",
    "#Import for threading\n",
    "\n",
    "import random\n",
    "import sys\n",
    "from threading import Thread, RLock\n",
    "import time\n",
    "\n",
    "import numpy as np\n",
    "\n",
    "#For tasks\n",
    "dfTask = pd.read_table(\"/home/fsmiguel/Documents/trace/Task.csv\",sep = ',',header = 0)\n",
    "#print(df)\n",
    "XTasks=dfTask['NumberOfTasks']\n",
    "Y1Tasks=dfTask['NumberOfLocalTask']\n",
    "Y2Tasks=dfTask['NumberOfAwayTaskDueToPosition']\n",
    "\n",
    "#For Latency\n",
    "dfLatency = pd.read_table(\"/home/fsmiguel/Documents/trace/Latency.csv\",sep = ',',header = 0)\n",
    "taskDelay=dfLatency['taskDelay']\n",
    "wanDelay=dfLatency['wanDelay']\n",
    "manDelay=dfLatency['manDelay']\n",
    "wlanDelay=dfLatency['wlanDelay']\n",
    "lanDelay=dfLatency['lanDelay']\n",
    "\n",
    "\n",
    "def simpleTaskCurve(X,Y1,Y2):\n",
    "    plt.plot(X, Y1,label=\"Task Computed locally\",linestyle=\"--\",lw=2)\n",
    "    plt.plot(X, Y2,label=\"Task Computed Away\",linestyle=\":\",lw=2)\n",
    "    plt.yscale('linear')#By default it it is linear, may also be: {\"linear\", \"log\", \"symlog\", \"logit\", ...} or ScaleBase\n",
    "    plt.xscale('linear')\n",
    "    plt.fill_between(X, Y1, Y2, color='y', alpha=.5)\n",
    "\n",
    "    plt.legend()\n",
    "    #plt.xlim(0, 1000)  # decreasing time\n",
    "    #plt.ylim(0, 1000)\n",
    "    #plt.xlabel('Number of Tasks generated')\n",
    "    #plt.ylabel('Number of tasks processed locally')\n",
    "    plt.grid(True)\n",
    "    plt.savefig(\"TaskGeneratedVSTaskProcessed100AVs.png\", format='png', bbox_inches='tight', pad_inches=0)\n",
    "    #plt.clf()\n",
    "    \n",
    "def simpleLatencyCurve(taskDelay,wanDelay,manDelay,wlanDelay,lanDelay):\n",
    "    plt.plot(wanDelay, manDelay,label=\"Man latency\",linestyle=\"--\",lw=2)\n",
    "    plt.plot(wanDelay, wlanDelay,label=\"Wlan latency\",linestyle=\":\",lw=2)\n",
    "    plt.plot(wanDelay, lanDelay,label=\"Lan latency\",linestyle=\"-\",lw=2)\n",
    "    plt.plot(wanDelay, taskDelay,label=\"Task Latency\",linestyle=\"-.\",lw=2)\n",
    "    plt.yscale('log')#By default it it is linear, may also be: {\"linear\", \"log\", \"symlog\", \"logit\", ...} or ScaleBase\n",
    "    plt.xscale('linear')\n",
    "    #plt.fill_between(X, Y1, Y2, color='y', alpha=.5)\n",
    "\n",
    "    plt.legend()\n",
    "    #plt.xlim(0, 1000)  # decreasing time\n",
    "    #plt.ylim(0, 1000)\n",
    "    #plt.xlabel('Number of Tasks generated')\n",
    "    #plt.ylabel('Number of tasks processed locally')\n",
    "    plt.grid(True)\n",
    "    #plt.savefig(\"TaskGeneratedVSTaskProcessed100AVs.png\", format='png', bbox_inches='tight', pad_inches=0)\n",
    "    #plt.clf()\n",
    "\n",
    "\n",
    "def histogramme(X,Y1,Y2):\n",
    "    n_bins = 5\n",
    "    fig, axs = plt.subplots(1, 1,\n",
    "                        figsize =(10, 7),\n",
    "                        tight_layout = True)\n",
    " \n",
    "    axs.hist(X, bins = n_bins,label=\"Task Computed locally\", alpha=.1)\n",
    "    axs.hist(Y1, bins = n_bins,label=\"Task Computed locally\", alpha=.8)\n",
    "    axs.hist(Y2, bins = n_bins,label=\"Task Computed Away\", alpha=.3)\n",
    "    plt.legend()\n",
    "    plt.show()\n",
    "    \n",
    "\n",
    "#histogramme(X,Y1,Y2)\n",
    "#simpleTaskCurve(XTasks,Y1Tasks,Y2Tasks)\n",
    "simpleLatencyCurve(taskDelay,wanDelay,manDelay,wlanDelay,lanDelay)"
   ]
  },
  {
   "cell_type": "code",
   "execution_count": null,
   "metadata": {},
   "outputs": [],
   "source": []
  },
  {
   "cell_type": "code",
   "execution_count": null,
   "metadata": {},
   "outputs": [],
   "source": []
  }
 ],
 "metadata": {
  "kernelspec": {
   "display_name": "Python 3",
   "language": "python",
   "name": "python3"
  },
  "language_info": {
   "codemirror_mode": {
    "name": "ipython",
    "version": 3
   },
   "file_extension": ".py",
   "mimetype": "text/x-python",
   "name": "python",
   "nbconvert_exporter": "python",
   "pygments_lexer": "ipython3",
   "version": "3.7.6"
  }
 },
 "nbformat": 4,
 "nbformat_minor": 4
}
